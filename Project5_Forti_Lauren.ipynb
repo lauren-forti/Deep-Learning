{
 "cells": [
  {
   "cell_type": "markdown",
   "id": "18b22295",
   "metadata": {},
   "source": [
    "# DSCI 419: Deep Learning\n",
    "# Project 5\n",
    "### Lauren Forti\n",
    "### 04/10/2023\n",
    "\n",
    "An RNN model is built to forecast recommendations based on review data."
   ]
  },
  {
   "cell_type": "code",
   "execution_count": 1,
   "id": "69e73f10",
   "metadata": {},
   "outputs": [],
   "source": [
    "# imports\n",
    "import pandas as pd\n",
    "import numpy as np\n",
    "import seaborn as sns\n",
    "import pandas as pd\n",
    "import matplotlib.pyplot as plt\n",
    "import re\n",
    "\n",
    "import tensorflow as tf\n",
    "from sklearn import preprocessing\n",
    "from sklearn.model_selection import train_test_split\n",
    "from sklearn.metrics import confusion_matrix, classification_report"
   ]
  },
  {
   "cell_type": "markdown",
   "id": "dc8701f1",
   "metadata": {},
   "source": [
    "## Part 1: Load the data\n",
    "The data set is loaded into memory."
   ]
  },
  {
   "cell_type": "code",
   "execution_count": 2,
   "id": "8ee79dd3",
   "metadata": {},
   "outputs": [],
   "source": [
    "# get file path\n",
    "file_path = 'C:\\\\Users\\\\laure\\\\Documents\\\\School\\\\DSCI 419 - Deep Learning\\\\Womens Clothing E-Commerce Reviews.csv'\n",
    "\n",
    "# read in csv\n",
    "reviews = pd.read_csv(file_path)"
   ]
  },
  {
   "cell_type": "code",
   "execution_count": 3,
   "id": "30015237",
   "metadata": {},
   "outputs": [
    {
     "data": {
      "text/html": [
       "<div>\n",
       "<style scoped>\n",
       "    .dataframe tbody tr th:only-of-type {\n",
       "        vertical-align: middle;\n",
       "    }\n",
       "\n",
       "    .dataframe tbody tr th {\n",
       "        vertical-align: top;\n",
       "    }\n",
       "\n",
       "    .dataframe thead th {\n",
       "        text-align: right;\n",
       "    }\n",
       "</style>\n",
       "<table border=\"1\" class=\"dataframe\">\n",
       "  <thead>\n",
       "    <tr style=\"text-align: right;\">\n",
       "      <th></th>\n",
       "      <th>Unnamed: 0</th>\n",
       "      <th>Clothing ID</th>\n",
       "      <th>Age</th>\n",
       "      <th>Title</th>\n",
       "      <th>Review Text</th>\n",
       "      <th>Rating</th>\n",
       "      <th>Recommended IND</th>\n",
       "      <th>Positive Feedback Count</th>\n",
       "      <th>Division Name</th>\n",
       "      <th>Department Name</th>\n",
       "      <th>Class Name</th>\n",
       "    </tr>\n",
       "  </thead>\n",
       "  <tbody>\n",
       "    <tr>\n",
       "      <th>0</th>\n",
       "      <td>0</td>\n",
       "      <td>767</td>\n",
       "      <td>33</td>\n",
       "      <td>NaN</td>\n",
       "      <td>Absolutely wonderful - silky and sexy and comf...</td>\n",
       "      <td>4</td>\n",
       "      <td>1</td>\n",
       "      <td>0</td>\n",
       "      <td>Initmates</td>\n",
       "      <td>Intimate</td>\n",
       "      <td>Intimates</td>\n",
       "    </tr>\n",
       "    <tr>\n",
       "      <th>1</th>\n",
       "      <td>1</td>\n",
       "      <td>1080</td>\n",
       "      <td>34</td>\n",
       "      <td>NaN</td>\n",
       "      <td>Love this dress!  it's sooo pretty.  i happene...</td>\n",
       "      <td>5</td>\n",
       "      <td>1</td>\n",
       "      <td>4</td>\n",
       "      <td>General</td>\n",
       "      <td>Dresses</td>\n",
       "      <td>Dresses</td>\n",
       "    </tr>\n",
       "    <tr>\n",
       "      <th>2</th>\n",
       "      <td>2</td>\n",
       "      <td>1077</td>\n",
       "      <td>60</td>\n",
       "      <td>Some major design flaws</td>\n",
       "      <td>I had such high hopes for this dress and reall...</td>\n",
       "      <td>3</td>\n",
       "      <td>0</td>\n",
       "      <td>0</td>\n",
       "      <td>General</td>\n",
       "      <td>Dresses</td>\n",
       "      <td>Dresses</td>\n",
       "    </tr>\n",
       "    <tr>\n",
       "      <th>3</th>\n",
       "      <td>3</td>\n",
       "      <td>1049</td>\n",
       "      <td>50</td>\n",
       "      <td>My favorite buy!</td>\n",
       "      <td>I love, love, love this jumpsuit. it's fun, fl...</td>\n",
       "      <td>5</td>\n",
       "      <td>1</td>\n",
       "      <td>0</td>\n",
       "      <td>General Petite</td>\n",
       "      <td>Bottoms</td>\n",
       "      <td>Pants</td>\n",
       "    </tr>\n",
       "    <tr>\n",
       "      <th>4</th>\n",
       "      <td>4</td>\n",
       "      <td>847</td>\n",
       "      <td>47</td>\n",
       "      <td>Flattering shirt</td>\n",
       "      <td>This shirt is very flattering to all due to th...</td>\n",
       "      <td>5</td>\n",
       "      <td>1</td>\n",
       "      <td>6</td>\n",
       "      <td>General</td>\n",
       "      <td>Tops</td>\n",
       "      <td>Blouses</td>\n",
       "    </tr>\n",
       "  </tbody>\n",
       "</table>\n",
       "</div>"
      ],
      "text/plain": [
       "   Unnamed: 0  Clothing ID  Age                    Title  \\\n",
       "0           0          767   33                      NaN   \n",
       "1           1         1080   34                      NaN   \n",
       "2           2         1077   60  Some major design flaws   \n",
       "3           3         1049   50         My favorite buy!   \n",
       "4           4          847   47         Flattering shirt   \n",
       "\n",
       "                                         Review Text  Rating  Recommended IND  \\\n",
       "0  Absolutely wonderful - silky and sexy and comf...       4                1   \n",
       "1  Love this dress!  it's sooo pretty.  i happene...       5                1   \n",
       "2  I had such high hopes for this dress and reall...       3                0   \n",
       "3  I love, love, love this jumpsuit. it's fun, fl...       5                1   \n",
       "4  This shirt is very flattering to all due to th...       5                1   \n",
       "\n",
       "   Positive Feedback Count   Division Name Department Name Class Name  \n",
       "0                        0       Initmates        Intimate  Intimates  \n",
       "1                        4         General         Dresses    Dresses  \n",
       "2                        0         General         Dresses    Dresses  \n",
       "3                        0  General Petite         Bottoms      Pants  \n",
       "4                        6         General            Tops    Blouses  "
      ]
     },
     "execution_count": 3,
     "metadata": {},
     "output_type": "execute_result"
    }
   ],
   "source": [
    "# look @ first few rows\n",
    "reviews.head()"
   ]
  },
  {
   "cell_type": "code",
   "execution_count": 4,
   "id": "92da13e0",
   "metadata": {},
   "outputs": [],
   "source": [
    "# drop unnamed col\n",
    "reviews = reviews.drop('Unnamed: 0', axis = 1)"
   ]
  },
  {
   "cell_type": "code",
   "execution_count": 5,
   "id": "63c51844",
   "metadata": {},
   "outputs": [
    {
     "data": {
      "text/plain": [
       "Clothing ID                   0\n",
       "Age                           0\n",
       "Title                      3810\n",
       "Review Text                 845\n",
       "Rating                        0\n",
       "Recommended IND               0\n",
       "Positive Feedback Count       0\n",
       "Division Name                14\n",
       "Department Name              14\n",
       "Class Name                   14\n",
       "dtype: int64"
      ]
     },
     "execution_count": 5,
     "metadata": {},
     "output_type": "execute_result"
    }
   ],
   "source": [
    "# check missing values\n",
    "reviews.isnull().sum(axis = 0)"
   ]
  },
  {
   "cell_type": "code",
   "execution_count": 6,
   "id": "789a9096",
   "metadata": {},
   "outputs": [
    {
     "data": {
      "text/plain": [
       "Clothing ID                 int64\n",
       "Age                         int64\n",
       "Title                      object\n",
       "Review Text                object\n",
       "Rating                      int64\n",
       "Recommended IND             int64\n",
       "Positive Feedback Count     int64\n",
       "Division Name              object\n",
       "Department Name            object\n",
       "Class Name                 object\n",
       "dtype: object"
      ]
     },
     "execution_count": 6,
     "metadata": {},
     "output_type": "execute_result"
    }
   ],
   "source": [
    "# check datatypes\n",
    "reviews.dtypes"
   ]
  },
  {
   "cell_type": "code",
   "execution_count": 7,
   "id": "6c8c3158",
   "metadata": {},
   "outputs": [
    {
     "data": {
      "text/plain": [
       "Clothing ID                 int64\n",
       "Age                         int64\n",
       "Title                      object\n",
       "Review Text                object\n",
       "Rating                      int64\n",
       "Recommended IND             int64\n",
       "Positive Feedback Count     int64\n",
       "Division Name              object\n",
       "Department Name            object\n",
       "Class Name                 object\n",
       "dtype: object"
      ]
     },
     "execution_count": 7,
     "metadata": {},
     "output_type": "execute_result"
    }
   ],
   "source": [
    "# list of text cols\n",
    "cols = ['Title', 'Review Text', 'Division Name', 'Department Name', 'Class Name']\n",
    "\n",
    "# replace NaNs w/ empty strings\n",
    "reviews[cols] = reviews[cols].fillna('')\n",
    "\n",
    "# convert text cols to string data type\n",
    "reviews[cols] = reviews[cols].astype(str)\n",
    "# check conversion\n",
    "reviews.dtypes"
   ]
  },
  {
   "cell_type": "markdown",
   "id": "54d61121",
   "metadata": {},
   "source": [
    "## Part 2: Create new feature\n",
    "**Title, Review Text, Division Name, Department Name,** and **Class Name** are concatenated as a new feature, **Reviews**."
   ]
  },
  {
   "cell_type": "code",
   "execution_count": 8,
   "id": "d68d0b47",
   "metadata": {},
   "outputs": [
    {
     "data": {
      "text/plain": [
       "0     Absolutely wonderful - silky and sexy and com...\n",
       "1     Love this dress!  it's sooo pretty.  i happen...\n",
       "2    Some major design flaws I had such high hopes ...\n",
       "3    My favorite buy! I love, love, love this jumps...\n",
       "4    Flattering shirt This shirt is very flattering...\n",
       "Name: Reviews, dtype: object"
      ]
     },
     "execution_count": 8,
     "metadata": {},
     "output_type": "execute_result"
    }
   ],
   "source": [
    "# make new column\n",
    "reviews['Reviews'] = reviews['Title'] + ' ' + reviews['Review Text'] + ' ' + reviews['Division Name'] + ' ' + reviews['Department Name'] + ' ' + reviews['Class Name']\n",
    "\n",
    "# check first few rows of new column\n",
    "reviews['Reviews'].head()"
   ]
  },
  {
   "cell_type": "markdown",
   "id": "ae61ad3b",
   "metadata": {},
   "source": [
    "## Part 3: Clean the new feature\n",
    "The new feature, **Reviews**, is cleaned using regular expressions."
   ]
  },
  {
   "cell_type": "code",
   "execution_count": 9,
   "id": "f64dd104",
   "metadata": {},
   "outputs": [
    {
     "data": {
      "text/plain": [
       "0     Absolutely wonderful silky and sexy and comfo...\n",
       "1     Love this dress sooo pretty happened find sto...\n",
       "2    Some major design flaws had such high hopes fo...\n",
       "3     favorite buy love love love this jumpsuit fun...\n",
       "4    Flattering shirt This shirt very flattering al...\n",
       "Name: Reviews, dtype: object"
      ]
     },
     "execution_count": 9,
     "metadata": {},
     "output_type": "execute_result"
    }
   ],
   "source": [
    "# remove all special characters and punctuation\n",
    "reviews['Reviews'] = reviews['Reviews'].apply(lambda x: re.sub(r'[^A-Za-z0-9]+', ' ', x))\n",
    "\n",
    "# replace <br />\n",
    "reviews['Reviews'] = reviews['Reviews'].apply(lambda x: re.sub(r'<br />', ' ', x))\n",
    "\n",
    "# remove length <= 2\n",
    "reviews['Reviews'] = reviews['Reviews'].apply(lambda x: re.sub(r'\\b[a-zA-Z]{1,2}\\b', ' ', x))\n",
    "\n",
    "# remove extra spaces\n",
    "reviews['Reviews'] = reviews['Reviews'].apply(lambda x: re.sub(r'\\s+', ' ', x))\n",
    "\n",
    "# check first few output\n",
    "reviews['Reviews'].head()"
   ]
  },
  {
   "cell_type": "markdown",
   "id": "97f049ae",
   "metadata": {},
   "source": [
    "## Part 4: RNN model\n",
    "An RNN model is built with TensorFlow to forecast the **Recommended IND**."
   ]
  },
  {
   "cell_type": "code",
   "execution_count": 10,
   "id": "6bfa63d6",
   "metadata": {},
   "outputs": [
    {
     "data": {
      "text/plain": [
       "1    19314\n",
       "0     4172\n",
       "Name: label, dtype: int64"
      ]
     },
     "execution_count": 10,
     "metadata": {},
     "output_type": "execute_result"
    }
   ],
   "source": [
    "# convert target label to numeric\n",
    "le = preprocessing.LabelEncoder()\n",
    "reviews['label'] = le.fit_transform(reviews['Recommended IND'])\n",
    "\n",
    "# output count\n",
    "reviews.label.value_counts()"
   ]
  },
  {
   "cell_type": "code",
   "execution_count": 11,
   "id": "0471c39b",
   "metadata": {},
   "outputs": [],
   "source": [
    "# get features and labels\n",
    "X = reviews['Reviews'].values\n",
    "y = reviews['label'].values\n",
    "\n",
    "# split into training and testing sets\n",
    "X_train, X_test, y_train, y_test = train_test_split(X, y, stratify = y, shuffle = True, test_size = 0.2)"
   ]
  },
  {
   "cell_type": "code",
   "execution_count": 12,
   "id": "f2a5d114",
   "metadata": {},
   "outputs": [],
   "source": [
    "# specify vocab size\n",
    "VOCAB_SIZE = 1000\n",
    "\n",
    "# convert text to numeric\n",
    "encoder = tf.keras.layers.experimental.preprocessing.TextVectorization(\n",
    "    max_tokens = VOCAB_SIZE)\n",
    "\n",
    "# fit state of preprocessing layer to df\n",
    "encoder.adapt(X_train)"
   ]
  },
  {
   "cell_type": "code",
   "execution_count": 13,
   "id": "7b5dbe85",
   "metadata": {},
   "outputs": [],
   "source": [
    "# build model\n",
    "model = tf.keras.Sequential([\n",
    "    # convert review text to indices\n",
    "    encoder,\n",
    "    \n",
    "    tf.keras.layers.Embedding(\n",
    "        input_dim = len(encoder.get_vocabulary()),\n",
    "        output_dim = 8,\n",
    "        # use masking to handle variable sequence lengths\n",
    "        mask_zero = True),\n",
    "\n",
    "    # GRU layer\n",
    "    tf.keras.layers.GRU(32, return_sequences = True),\n",
    "    \n",
    "    # LSTM layer\n",
    "    tf.keras.layers.Bidirectional(tf.keras.layers.LSTM(32)),\n",
    "    \n",
    "    # classifier layer\n",
    "    tf.keras.layers.Dense(8, activation = 'relu'),\n",
    "    tf.keras.layers.Dense(1)\n",
    "])"
   ]
  },
  {
   "cell_type": "code",
   "execution_count": 14,
   "id": "d3ea6ac9",
   "metadata": {},
   "outputs": [],
   "source": [
    "# configure model\n",
    "model.compile(loss = tf.keras.losses.BinaryCrossentropy(from_logits = True),\n",
    "              optimizer = tf.keras.optimizers.Adam(.0001),\n",
    "              metrics = ['accuracy'])"
   ]
  },
  {
   "cell_type": "code",
   "execution_count": 15,
   "id": "3b2df07b",
   "metadata": {
    "scrolled": false
   },
   "outputs": [
    {
     "name": "stdout",
     "output_type": "stream",
     "text": [
      "Epoch 1/5\n",
      "294/294 [==============================] - 51s 137ms/step - loss: 0.5319 - accuracy: 0.6067 - val_loss: 0.4690 - val_accuracy: 0.7876\n",
      "Epoch 2/5\n",
      "294/294 [==============================] - 38s 128ms/step - loss: 0.4104 - accuracy: 0.8058 - val_loss: 0.3110 - val_accuracy: 0.8495\n",
      "Epoch 3/5\n",
      "294/294 [==============================] - 45s 154ms/step - loss: 0.2825 - accuracy: 0.8721 - val_loss: 0.2706 - val_accuracy: 0.8812\n",
      "Epoch 4/5\n",
      "294/294 [==============================] - 51s 175ms/step - loss: 0.2503 - accuracy: 0.8945 - val_loss: 0.2450 - val_accuracy: 0.8904\n",
      "Epoch 5/5\n",
      "294/294 [==============================] - 59s 201ms/step - loss: 0.2273 - accuracy: 0.9001 - val_loss: 0.2310 - val_accuracy: 0.8940\n",
      "Wall time: 4min 4s\n"
     ]
    }
   ],
   "source": [
    "%%time\n",
    "\n",
    "# train model\n",
    "history = model.fit(x = X_train, y = y_train, batch_size = 64, epochs = 5,\n",
    "          validation_data = (X_test, y_test), verbose = 1\n",
    "          )"
   ]
  },
  {
   "cell_type": "markdown",
   "id": "efe2cd89",
   "metadata": {},
   "source": [
    "## Part 5: Evaluate Model\n",
    "The training loss versus validation loss and training accuracy versus validation accuracy are plotted. Predictions are made with the model and evaluated with a confusion matrix and a classification report. "
   ]
  },
  {
   "cell_type": "code",
   "execution_count": 16,
   "id": "18aab67f",
   "metadata": {},
   "outputs": [
    {
     "data": {
      "text/plain": [
       "<matplotlib.legend.Legend at 0x22794523b80>"
      ]
     },
     "execution_count": 16,
     "metadata": {},
     "output_type": "execute_result"
    },
    {
     "data": {
      "image/png": "[encoded data removed]",
      "text/plain": [
       "<Figure size 640x480 with 1 Axes>"
      ]
     },
     "metadata": {},
     "output_type": "display_data"
    }
   ],
   "source": [
    "train_history = pd.DataFrame(history.history)\n",
    "train_history['epoch'] = history.epoch\n",
    "\n",
    "# plot train + validation loss\n",
    "sns.lineplot(x = 'epoch', y = 'loss', data = train_history)\n",
    "sns.lineplot(x = 'epoch', y = 'val_loss', data = train_history)\n",
    "\n",
    "# add legend\n",
    "plt.legend(labels = ['train_loss', 'val_loss'])"
   ]
  },
  {
   "cell_type": "markdown",
   "id": "97e63a51",
   "metadata": {},
   "source": [
    "The model is slightly overfit. \n",
    "Training loss starts around 0.55 and decreases at 2 epochs to around 0.3. It then continues decreasing with a negative slope.\n",
    "Validation loss starts lower than training loss, near 0.475. It decreases with a negative slope, but crosses over training loss between 3 and 4 epochs. The decreasing training loss and higher validation loss indicates that the model is slightly overfitting."
   ]
  },
  {
   "cell_type": "code",
   "execution_count": 17,
   "id": "5b1976cf",
   "metadata": {},
   "outputs": [
    {
     "data": {
      "text/plain": [
       "<matplotlib.legend.Legend at 0x227afc8a730>"
      ]
     },
     "execution_count": 17,
     "metadata": {},
     "output_type": "execute_result"
    },
    {
     "data": {
      "image/png": "[encoded data removed]",
      "text/plain": [
       "<Figure size 640x480 with 1 Axes>"
      ]
     },
     "metadata": {},
     "output_type": "display_data"
    }
   ],
   "source": [
    "# plot train + validation accuracy\n",
    "sns.lineplot(x = 'epoch', y = 'accuracy', data = train_history)\n",
    "sns.lineplot(x = 'epoch', y = 'val_accuracy', data = train_history)\n",
    "\n",
    "# Add legends\n",
    "plt.legend(labels = ['train_accuracy', 'val_accuracy'])"
   ]
  },
  {
   "cell_type": "markdown",
   "id": "6ddbdeee",
   "metadata": {},
   "source": [
    "The validation accuracy and training accuracy learning curve also point to the model being slightly overfit. Validation accuracy is above training accuracy until at about 3 epochs where training becomes higher."
   ]
  },
  {
   "cell_type": "code",
   "execution_count": 23,
   "id": "b933074f",
   "metadata": {},
   "outputs": [
    {
     "name": "stdout",
     "output_type": "stream",
     "text": [
      "147/147 [==============================] - 5s 36ms/step\n"
     ]
    },
    {
     "data": {
      "text/plain": [
       "array([[ 682,  153],\n",
       "       [ 345, 3518]], dtype=int64)"
      ]
     },
     "execution_count": 23,
     "metadata": {},
     "output_type": "execute_result"
    }
   ],
   "source": [
    "# forecast\n",
    "y_pred = (model.predict(X_test) > 0.5).astype(int)\n",
    "\n",
    "# get confusion matrix\n",
    "confusion_matrix(y_test, y_pred)"
   ]
  },
  {
   "cell_type": "code",
   "execution_count": 24,
   "id": "155499ca",
   "metadata": {},
   "outputs": [
    {
     "data": {
      "text/plain": [
       "(682, 153, 345, 3518)"
      ]
     },
     "execution_count": 24,
     "metadata": {},
     "output_type": "execute_result"
    }
   ],
   "source": [
    "# get confusion matrix labels\n",
    "tn, fp, fn, tp = confusion_matrix(y_test, y_pred).ravel()\n",
    "(tn, fp, fn, tp)"
   ]
  },
  {
   "cell_type": "code",
   "execution_count": 25,
   "id": "f70a0030",
   "metadata": {},
   "outputs": [
    {
     "name": "stdout",
     "output_type": "stream",
     "text": [
      "              precision    recall  f1-score   support\n",
      "\n",
      "    negative       0.66      0.82      0.73       835\n",
      "    positive       0.96      0.91      0.93      3863\n",
      "\n",
      "    accuracy                           0.89      4698\n",
      "   macro avg       0.81      0.86      0.83      4698\n",
      "weighted avg       0.91      0.89      0.90      4698\n",
      "\n"
     ]
    }
   ],
   "source": [
    "# get classification report\n",
    "label_names = ['negative', 'positive']\n",
    "print(classification_report(y_test, y_pred, target_names = label_names))"
   ]
  },
  {
   "cell_type": "markdown",
   "id": "e0fc6780",
   "metadata": {},
   "source": [
    "This model performs has room for improvement with how it classifies negative (\"Not Recommended\") reviews. The accuracy is larger than 85%, coming in at 89%. The f1-score for positive (\"Recommended\") reviews is 93%. This is also higher than 85% and indicates good performance. However, the f1-score for negative reviews is 73%. This is lower than 85% and can be improved.\n",
    "\n",
    "Ultimately, the model should be refined to handle negative classification better. The current model misclassifies almost 1/4 of what are actually negative reviews as positive. "
   ]
  }
 ],
 "metadata": {
  "kernelspec": {
   "display_name": "Python 3 (ipykernel)",
   "language": "python",
   "name": "python3"
  },
  "language_info": {
   "codemirror_mode": {
    "name": "ipython",
    "version": 3
   },
   "file_extension": ".py",
   "mimetype": "text/x-python",
   "name": "python",
   "nbconvert_exporter": "python",
   "pygments_lexer": "ipython3",
   "version": "3.9.13"
  }
 },
 "nbformat": 4,
 "nbformat_minor": 5
}
